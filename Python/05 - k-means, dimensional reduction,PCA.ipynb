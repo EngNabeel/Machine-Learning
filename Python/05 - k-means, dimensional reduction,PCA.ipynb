{
 "cells": [
  {
   "cell_type": "code",
   "execution_count": 1,
   "metadata": {},
   "outputs": [],
   "source": [
    "import numpy as np\n",
    "import pandas as pd\n",
    "import matplotlib.pyplot as plt\n",
    "import seaborn as sb\n",
    "from scipy.io import loadmat"
   ]
  },
  {
   "cell_type": "code",
   "execution_count": 2,
   "metadata": {},
   "outputs": [],
   "source": [
    "# select random points\n",
    "def init_centroids(X, k):\n",
    "     m, n = X.shape\n",
    "     centroids = np.zeros((k, n))\n",
    "     idx = np.random.randint(0, m, k)\n",
    "    \n",
    "     for i in range(k):\n",
    "         centroids[i,:] = X[idx[i],:] \n",
    "    \n",
    "     return centroids\n",
    "\n",
    "\n",
    "# centroid function\n",
    "def find_closest_centroids(X, centroids):\n",
    "      m = X.shape[0]\n",
    "      k = centroids.shape[0]\n",
    "      idx = np.zeros(m)\n",
    "\n",
    "      for i in range(m):\n",
    "          min_dist = 1000000\n",
    "          for j in range(k):\n",
    "              dist = np.sum((X[i,:] - centroids[j,:]) ** 2)\n",
    "              if dist < min_dist:\n",
    "                  min_dist = dist\n",
    "                  idx[i] = j\n",
    "    \n",
    "      return idx\n",
    "\n",
    "\n",
    "# centroid maker\n",
    "def compute_centroids(X, idx, k):\n",
    "      m, n = X.shape\n",
    "      centroids = np.zeros((k, n))\n",
    "      \n",
    "      for i in range(k):\n",
    "          indices = np.where(idx == i)\n",
    "          centroids[i,:] = (np.sum(X[indices,:], axis=1) / len(indices[0])).ravel()\n",
    "           \n",
    "      return centroids\n",
    "\n",
    "\n",
    "# k means function\n",
    "def run_k_means(X, initial_centroids, max_iters):\n",
    "      m, n = X.shape\n",
    "      k = initial_centroids.shape[0]\n",
    "      idx = np.zeros(m)\n",
    "      centroids = initial_centroids\n",
    "    \n",
    "      for i in range(max_iters):\n",
    "          idx = find_closest_centroids(X, centroids)\n",
    "          centroids = compute_centroids(X, idx, k)\n",
    "    \n",
    "      return idx, centroids\n",
    "\n",
    "\n",
    "def pca(X):\n",
    "      # normalize the features\n",
    "      X = (X - X.mean()) / X.std()\n",
    "    \n",
    "      # compute the covariance matrix\n",
    "      X = np.matrix(X)\n",
    "      cov = (X.T * X) / X.shape[0]\n",
    "     # print('cov \\n', cov)\n",
    "     # print()\n",
    "      # perform SVD\n",
    "      U, S, V = np.linalg.svd(cov) # singular value decomposition\n",
    "    \n",
    "      return U, S, V\n",
    "\n",
    "\n",
    "def project_data(X, U, k):\n",
    "      U_reduced = U[:,:k]\n",
    "      return np.dot(X, U_reduced)\n",
    "\n",
    "\n",
    "\n",
    "def recover_data(Z, U, k):\n",
    "      U_reduced = U[:,:k]\n",
    "      return np.dot(Z, U_reduced.T)"
   ]
  },
  {
   "cell_type": "code",
   "execution_count": 3,
   "metadata": {},
   "outputs": [
    {
     "name": "stdout",
     "output_type": "stream",
     "text": [
      "(300, 2)\n",
      "\n",
      "[[5.14533035 4.13225692]\n",
      " [1.02062703 4.62991119]\n",
      " [6.5870565  3.37508345]]\n",
      "\n",
      "[[3.85641411 1.94743305]\n",
      " [1.86859784 3.96439135]\n",
      " [6.24268945 2.77032569]]\n",
      "\n",
      "[[3.15748851 1.13762754]\n",
      " [1.94403425 4.98654075]\n",
      " [6.14886585 3.00644011]]\n",
      "\n",
      "[[3.04367119 1.01541041]\n",
      " [1.95399466 5.02557006]\n",
      " [6.03366736 3.00052511]]\n",
      "\n",
      "[[3.04367119 1.01541041]\n",
      " [1.95399466 5.02557006]\n",
      " [6.03366736 3.00052511]]\n",
      "\n",
      "[[3.04367119 1.01541041]\n",
      " [1.95399466 5.02557006]\n",
      " [6.03366736 3.00052511]]\n"
     ]
    },
    {
     "data": {
      "text/plain": [
       "<matplotlib.legend.Legend at 0x1df0d94bd88>"
      ]
     },
     "execution_count": 3,
     "metadata": {},
     "output_type": "execute_result"
    },
    {
     "data": {
      "image/png": "[encoded data removed]",
      "text/plain": [
       "<Figure size 648x432 with 1 Axes>"
      ]
     },
     "metadata": {
      "needs_background": "light"
     },
     "output_type": "display_data"
    }
   ],
   "source": [
    "#load data\n",
    "data = loadmat('ex7data2.mat')\n",
    "print(data['X'].shape)\n",
    " \n",
    "#classify points\n",
    "X = data['X']\n",
    "#initial_centroids = np.array([[3, 3], [6, 2], [8, 5]])\n",
    "#initial_centroids = np.array([[8, 0], [8, 6], [0, 3]])\n",
    "initial_centroids = init_centroids(X, 3)\n",
    "# print(initial_centroids )\n",
    "\n",
    "idx = find_closest_centroids(X, initial_centroids)  #Selection\n",
    "# print(idx)\n",
    "\n",
    "# calculate new centroid\n",
    "c = compute_centroids(X, idx, 3)  #displacement\n",
    "# print(c)  \n",
    "\n",
    "for x in range(6):\n",
    "  #apply k means\n",
    "  idx, centroids = run_k_means(X, initial_centroids, x)\n",
    "  #print(idx)\n",
    "  print()\n",
    "  print(centroids )\n",
    "\n",
    " # draw it\n",
    "cluster1 = X[np.where(idx == 0)[0],:]\n",
    "cluster2 = X[np.where(idx == 1)[0],:]\n",
    "cluster3 = X[np.where(idx == 2)[0],:]\n",
    "\n",
    "fig, ax = plt.subplots(figsize=(9,6))\n",
    "ax.scatter(cluster1[:,0], cluster1[:,1], s=30, color='r', label='Cluster 1')\n",
    "ax.scatter(centroids[0,0],centroids[0,1],s=300, color='r')\n",
    "\n",
    "ax.scatter(cluster2[:,0], cluster2[:,1], s=30, color='g', label='Cluster 2')\n",
    "ax.scatter(centroids[1,0],centroids[1,1],s=300, color='g')\n",
    "\n",
    "ax.scatter(cluster3[:,0], cluster3[:,1], s=30, color='b', label='Cluster 3')\n",
    "ax.scatter(centroids[2,0],centroids[2,1],s=300, color='b')\n",
    "\n",
    "ax.legend()"
   ]
  },
  {
   "cell_type": "code",
   "execution_count": 4,
   "metadata": {},
   "outputs": [
    {
     "name": "stdout",
     "output_type": "stream",
     "text": [
      "(128, 128, 3)\n",
      "(16384, 3)\n"
     ]
    },
    {
     "data": {
      "text/plain": [
       "<matplotlib.image.AxesImage at 0x1df0d9f9d88>"
      ]
     },
     "execution_count": 4,
     "metadata": {},
     "output_type": "execute_result"
    },
    {
     "data": {
      "image/png": "[encoded data removed]",
      "text/plain": [
       "<Figure size 432x288 with 1 Axes>"
      ]
     },
     "metadata": {
      "needs_background": "light"
     },
     "output_type": "display_data"
    }
   ],
   "source": [
    "# Dimensional reduction\n",
    "image_data = loadmat('bird_small.mat')\n",
    "\n",
    "#print(image_data)\n",
    "\n",
    "A = image_data['A']\n",
    "print(A.shape)\n",
    "#plt.imshow(A)\n",
    "\n",
    "#normalize value ranges\n",
    "A = A / 255.\n",
    "\n",
    "#reshape the array\n",
    "X = np.reshape(A, (A.shape[0] * A.shape[1], A.shape[2]))\n",
    "print(X.shape)\n",
    "\n",
    "#randomly initialize the centroids\n",
    "initial_centroids = init_centroids(X, 16)\n",
    "#print(initial_centroids)\n",
    "\n",
    "# run the algorithm\n",
    "idx, centroids = run_k_means(X, initial_centroids, 10)\n",
    "\n",
    "# get the closest centroids one last time\n",
    "idx = find_closest_centroids(X, centroids)\n",
    "\n",
    "# map each pixel to the centroid value\n",
    "X_recovered = centroids[idx.astype(int),:]\n",
    "\n",
    "# reshape to the original dimensions\n",
    "X_recovered = np.reshape(X_recovered, (A.shape[0], A.shape[1], A.shape[2]))\n",
    "\n",
    "plt.imshow(X_recovered)"
   ]
  },
  {
   "cell_type": "code",
   "execution_count": 7,
   "metadata": {},
   "outputs": [
    {
     "name": "stdout",
     "output_type": "stream",
     "text": [
      "(50, 2)\n",
      "(50, 2)\n"
     ]
    },
    {
     "data": {
      "image/png": "[encoded data removed]",
      "text/plain": [
       "<Figure size 648x432 with 1 Axes>"
      ]
     },
     "metadata": {
      "needs_background": "light"
     },
     "output_type": "display_data"
    }
   ],
   "source": [
    "#PCA\n",
    "data = loadmat('ex7data1.mat')\n",
    "X = data['X']\n",
    "print(X.shape)\n",
    "#print(X)\n",
    "\n",
    "fig, ax = plt.subplots(figsize=(9,6))\n",
    "ax.scatter(X[:, 0], X[:, 1])\n",
    "U, S, V = pca(X)\n",
    "#print(U)\n",
    "#print(S)\n",
    "#print(V)\n",
    "\n",
    "Z = project_data(X, U, 1)\n",
    "#print(Z)\n",
    "X_recovered = recover_data(Z, U, 1)\n",
    "#print(X_recovered)\n",
    "print(X_recovered.shape)\n"
   ]
  },
  {
   "cell_type": "code",
   "execution_count": 8,
   "metadata": {},
   "outputs": [
    {
     "name": "stdout",
     "output_type": "stream",
     "text": [
      "(5000, 1024)\n"
     ]
    },
    {
     "data": {
      "text/plain": [
       "<matplotlib.image.AxesImage at 0x1df0f1c1648>"
      ]
     },
     "execution_count": 8,
     "metadata": {},
     "output_type": "execute_result"
    },
    {
     "data": {
      "image/png": "[encoded data removed]",
      "text/plain": [
       "<Figure size 432x288 with 1 Axes>"
      ]
     },
     "metadata": {
      "needs_background": "light"
     },
     "output_type": "display_data"
    }
   ],
   "source": [
    "#  Apply PCA on faces\n",
    "faces = loadmat('ex7faces.mat')\n",
    "X = faces['X']\n",
    "print(X.shape)\n",
    "plt.imshow(X)\n",
    "\n",
    "#show one face\n",
    "face = np.reshape(X[41,:], (32, 32))\n",
    "plt.imshow(face)\n",
    "U, S, V = pca(X)\n",
    "Z = project_data(X, U, 100)\n",
    "\n",
    "X_recovered = recover_data(Z, U, 100)\n",
    "face = np.reshape(X_recovered[41,:], (32, 32))\n",
    "plt.imshow(face) "
   ]
  }
 ],
 "metadata": {
  "kernelspec": {
   "display_name": "Python 3",
   "language": "python",
   "name": "python3"
  },
  "language_info": {
   "codemirror_mode": {
    "name": "ipython",
    "version": 3
   },
   "file_extension": ".py",
   "mimetype": "text/x-python",
   "name": "python",
   "nbconvert_exporter": "python",
   "pygments_lexer": "ipython3",
   "version": "3.7.4"
  }
 },
 "nbformat": 4,
 "nbformat_minor": 4
}
